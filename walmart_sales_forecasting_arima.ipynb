<!DOCTYPE html>
<html>
<head>
  <meta charset="utf-8">
  <meta name="viewport" content="width=device-width, initial-scale=1">
  <title>Jupyter Notebook - Notebook</title>
  
  <link rel="icon" type="image/x-icon" href="/static/favicons/favicon-notebook.ico" class="favicon">
  

  
  <link rel="stylesheet" type="text/css" href="/custom/custom.css">
  
</head>
<body data-notebook="notebooks">

  
  

  
  

  
  

  <script id="jupyter-config-data" type="application/json">
    {"allow_hidden_files": false, "appName": "Jupyter Notebook", "appNamespace": "notebook", "appSettingsDir": "/opt/anaconda3/share/jupyter/lab/settings", "appUrl": "/lab", "appVersion": "7.2.2", "baseUrl": "/", "buildAvailable": true, "buildCheck": true, "cacheFiles": true, "copyAbsolutePath": false, "devMode": false, "disabledExtensions": [], "exposeAppInBrowser": false, "extensionManager": {"can_install": true, "install_path": "/opt/anaconda3", "name": "PyPI"}, "extraLabextensionsPath": [], "federated_extensions": [{"entrypoints": null, "extension": "./extension", "load": "static/remoteEntry.c6c768d682b3638efd6b.js", "mimeExtension": "./mimeExtension", "name": "jupyterlab-plotly"}, {"entrypoints": null, "extension": "./extension", "load": "static/remoteEntry.1b79f5706ea91568f336.js", "name": "@anaconda/assistant", "style": "./style"}, {"entrypoints": null, "extension": "./extension", "load": "static/remoteEntry.78187d8ccb8b9e4b8233.js", "name": "@anaconda/core", "style": "./style"}, {"entrypoints": null, "extension": "./extension", "load": "static/remoteEntry.cc6a218b1435e61ce6cf.js", "name": "@anaconda/panels", "style": "./style"}, {"entrypoints": null, "extension": "./extension", "load": "static/remoteEntry.702db12291b77e9be53e.js", "name": "@anaconda/share_notebook", "style": "./style"}, {"entrypoints": null, "extension": "./extension", "load": "static/remoteEntry.b2672ccde5bea09f4e9d.js", "name": "@anaconda/toolbox", "style": "./style"}, {"entrypoints": null, "extension": "./extension", "load": "static/remoteEntry.c8393541423362724be3.js", "name": "@pyviz/jupyterlab_pyviz", "style": "./style"}, {"entrypoints": null, "extension": "./extension", "load": "static/remoteEntry.cfbccb113f4c7c1d65fe.js", "name": "@lckr/jupyterlab_variableinspector", "style": "./style"}, {"entrypoints": null, "extension": "./extension", "load": "static/remoteEntry.04dfa589925e7e7c6a3d.js", "name": "@jupyter-notebook/lab-extension", "style": "./style"}, {"entrypoints": null, "extension": "./extension", "load": "static/remoteEntry.ca1efc27dc965162ca86.js", "name": "@jupyter-widgets/jupyterlab-manager"}], "frontendUrl": "/", "fullAppUrl": "/lab", "fullLabextensionsUrl": "/lab/extensions", "fullLicensesUrl": "/lab/api/licenses", "fullListingsUrl": "/lab/api/listings", "fullMathjaxUrl": "https://cdnjs.cloudflare.com/ajax/libs/mathjax/2.7.7/MathJax.js", "fullSettingsUrl": "/lab/api/settings", "fullStaticUrl": "/static/notebook", "fullThemesUrl": "/lab/api/themes", "fullTranslationsApiUrl": "/lab/api/translations", "fullTreeUrl": "/lab/tree", "fullWorkspacesApiUrl": "/lab/api/workspaces", "jupyterConfigDir": "/Users/sayedmahdi/.jupyter", "labextensionsPath": ["/Users/sayedmahdi/Library/Jupyter/labextensions", "/Users/sayedmahdi/.local/share/jupyter/labextensions", "/opt/anaconda3/share/jupyter/labextensions", "/usr/local/share/jupyter/labextensions", "/usr/share/jupyter/labextensions"], "labextensionsUrl": "/lab/extensions", "licensesUrl": "/lab/api/licenses", "listingsUrl": "/lab/api/listings", "mathjaxConfig": "TeX-AMS_HTML-full,Safe", "nbclassic_enabled": false, "news": {"disabled": false}, "notebookPage": "notebooks", "notebookStartsKernel": true, "notebookVersion": "[2, 14, 1]", "preferredPath": "/", "quitButton": true, "rootUri": "file:///Users/sayedmahdi", "schemasDir": "/opt/anaconda3/share/jupyter/lab/schemas", "settingsUrl": "/lab/api/settings", "staticDir": "/opt/anaconda3/lib/python3.12/site-packages/notebook/static", "templatesDir": "/opt/anaconda3/lib/python3.12/site-packages/notebook/templates", "terminalsAvailable": true, "themesDir": "/opt/anaconda3/share/jupyter/lab/themes", "themesUrl": "/lab/api/themes", "token": "97fd7aa8030d21c4006067c56c75f4cb748b16244265946d", "translationsApiUrl": "/lab/api/translations", "treeUrl": "/lab/tree", "userSettingsDir": "/Users/sayedmahdi/.jupyter/lab/user-settings", "virtualDocumentsUri": "file:///Users/sayedmahdi/.virtual_documents", "workspacesApiUrl": "/lab/api/workspaces", "workspacesDir": "/Users/sayedmahdi/.jupyter/lab/workspaces", "wsUrl": ""}
  </script>
  <script src="/static/notebook/bundle.js" main="index"></script>

  <script type="text/javascript">
    /* Remove token from URL. */
    (function () {
      var parsedUrl = new URL(window.location.href);
      if (parsedUrl.searchParams.get('token')) {
        parsedUrl.searchParams.delete('token');
        window.history.replaceState({ }, '', parsedUrl.href);
      }
    })();
  </script>

</body>
</html>